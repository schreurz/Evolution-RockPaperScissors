{
 "cells": [
  {
   "cell_type": "code",
   "execution_count": 1,
   "metadata": {
    "collapsed": false
   },
   "outputs": [
    {
     "name": "stdout",
     "output_type": "stream",
     "text": [
      "Populating the interactive namespace from numpy and matplotlib\n"
     ]
    }
   ],
   "source": [
    "%pylab inline"
   ]
  },
  {
   "cell_type": "code",
   "execution_count": 2,
   "metadata": {
    "collapsed": true
   },
   "outputs": [],
   "source": [
    "from pandas import *"
   ]
  },
  {
   "cell_type": "code",
   "execution_count": 3,
   "metadata": {
    "collapsed": false,
    "scrolled": false
   },
   "outputs": [
    {
     "name": "stdout",
     "output_type": "stream",
     "text": [
      "Plotting.ipynb          \u001b[34mdata1\u001b[m\u001b[m                   \u001b[34mdata_32\u001b[m\u001b[m\r\n",
      "PosterPresentation.ppt  data_0.csv              data_parsing.ipynb\r\n",
      "README.md               data_1.csv              plotTest.pdf\r\n",
      "\u001b[34mRockPaperScissors\u001b[m\u001b[m       \u001b[34mdata_16\u001b[m\u001b[m                 rock_paper_scissors.pde\r\n"
     ]
    }
   ],
   "source": [
    "!ls"
   ]
  },
  {
   "cell_type": "code",
   "execution_count": 4,
   "metadata": {
    "collapsed": false
   },
   "outputs": [],
   "source": [
    "# winner[Random Player]\n",
    "#       [Well Mixed]\n",
    "winner_16 = [[{'R':0, 'P':0, 'S':0, 'M':0},{'R':0, 'P':0, 'S':0, 'M':0}],\n",
    "          [{'R':0, 'P':0, 'S':0, 'M':0},{'R':0, 'P':0, 'S':0, 'M':0}]]\n",
    "winner_32 = [[{'R':0, 'P':0, 'S':0, 'M':0},{'R':0, 'P':0, 'S':0, 'M':0}],\n",
    "          [{'R':0, 'P':0, 'S':0, 'M':0},{'R':0, 'P':0, 'S':0, 'M':0}]]\n",
    "winner_64 = [[{'R':0, 'P':0, 'S':0, 'M':0},{'R':0, 'P':0, 'S':0, 'M':0}],\n",
    "          [{'R':0, 'P':0, 'S':0, 'M':0},{'R':0, 'P':0, 'S':0, 'M':0}]]\n",
    "#extinct_time[Random Player]\n",
    "#            [Well Mixed]\n",
    "extinct_time_16 = [[[],[]],[[],[]]]\n",
    "extinct_time_32 = [[[],[]],[[],[]]]\n",
    "extinct_time_32 = [[[],[]],[[],[]]]"
   ]
  },
  {
   "cell_type": "code",
   "execution_count": 5,
   "metadata": {
    "collapsed": false
   },
   "outputs": [],
   "source": [
    "\"\"\"\n",
    "This loops through the data and gets the winners\n",
    "then saves that winner into the winner dictionary\n",
    "\"\"\"\n",
    "for i in range(60):\n",
    "    data=read_csv(\"data_16/data_\"+str(i)+\".csv\")\n",
    "    i = int(list(data['Well Mixed'])[0])\n",
    "    j = int(list(data['Random'])[0])\n",
    "    if (list(data['Size'])[0] == 16):\n",
    "        extinct_time_16[i][j].append(size(data['R']))\n",
    "        winner_16[i][j]['R'] += int(list(data['R'])[-1] > 0)\n",
    "        winner_16[i][j]['P'] += int(list(data['P'])[-1] > 0)\n",
    "        winner_16[i][j]['S'] += int(list(data['S'])[-1] > 0)\n",
    "        winner_16[i][j]['M'] += int(list(data['M'])[-1] > 0)\n",
    "    elif (list(data['Size'])[0] == 32):\n",
    "        extinct_time_32[i][j].append(size(data['R']))\n",
    "        winner_32[i][j]['R'] += int(list(data['R'])[-1] > 0)\n",
    "        winner_32[i][j]['P'] += int(list(data['P'])[-1] > 0)\n",
    "        winner_32[i][j]['S'] += int(list(data['S'])[-1] > 0)\n",
    "        winner_32[i][j]['M'] += int(list(data['M'])[-1] > 0)\n",
    "    elif (list(data['Size'])[0] == 64):\n",
    "        extinct_time_64[i][j].append(size(data['R']))\n",
    "        winner_64[i][j]['R'] += int(list(data['R'])[-1] > 0)\n",
    "        winner_64[i][j]['P'] += int(list(data['P'])[-1] > 0)\n",
    "        winner_64[i][j]['S'] += int(list(data['S'])[-1] > 0)\n",
    "        winner_64[i][j]['M'] += int(list(data['M'])[-1] > 0)"
   ]
  },
  {
   "cell_type": "code",
   "execution_count": 6,
   "metadata": {
    "collapsed": false
   },
   "outputs": [
    {
     "data": {
      "text/plain": [
       "[[{'M': 0, 'P': 3, 'R': 3, 'S': 9}, {'M': 4, 'P': 3, 'R': 3, 'S': 5}],\n",
       " [{'M': 0, 'P': 8, 'R': 4, 'S': 3}, {'M': 4, 'P': 3, 'R': 5, 'S': 3}]]"
      ]
     },
     "execution_count": 6,
     "metadata": {},
     "output_type": "execute_result"
    }
   ],
   "source": [
    "winner_16"
   ]
  },
  {
   "cell_type": "code",
   "execution_count": 7,
   "metadata": {
    "collapsed": true
   },
   "outputs": [],
   "source": [
    "list1 = [3,3,9,0]"
   ]
  },
  {
   "cell_type": "code",
   "execution_count": 15,
   "metadata": {
    "collapsed": false
   },
   "outputs": [
    {
     "data": {
      "image/png": "[encoded data removed]",
      "text/plain": [
       "<matplotlib.figure.Figure at 0x10737acf8>"
      ]
     },
     "metadata": {},
     "output_type": "display_data"
    }
   ],
   "source": [
    "N=['R','P','S','M']\n",
    "k=1\n",
    "for i in range(2):\n",
    "    for j in range(2):\n",
    "        L=[]\n",
    "        for n in N:\n",
    "            L.append(winner_16[i][j][n])\n",
    "        subplot(2,2,k)\n",
    "        bar([1,2,3,4],L)\n",
    "        xticks([1.4,2.4,3.4,4.4],['rock','paper','scissor','mixed'],rotation=65)\n",
    "        k=k+1\n",
    "tight_layout()"
   ]
  },
  {
   "cell_type": "code",
   "execution_count": 37,
   "metadata": {
    "collapsed": false
   },
   "outputs": [
    {
     "data": {
      "image/png": "[encoded data removed]",
      "text/plain": [
       "<matplotlib.figure.Figure at 0x107e98898>"
      ]
     },
     "metadata": {},
     "output_type": "display_data"
    }
   ],
   "source": [
    "figure(figsize=[6,6])\n",
    "extinct_time_16\n",
    "E=[]\n",
    "S=[]\n",
    "for i in range(2):\n",
    "    for j in range(2):\n",
    "        E.append(mean(extinct_time_16[i][j])*100)\n",
    "        S.append(std(numpy.array(extinct_time_16[i][j])*100)/float(sqrt(len(extinct_time_16[i][j]))))\n",
    "        \n",
    "bar([1,2,3,4],E,color=(0.5,0.5,0.5))\n",
    "errorbar([1.4,2.4,3.4,4.4],E,S,fmt=\"xk\")\n",
    "xticks([1.4,2.4,3.4,4.4],[\"sp noR\",\"sp R\",\"wm noR\",\"wm R\"],rotation=65)\n",
    "savefig(\"barGraph_extinctTime16.pdf\")"
   ]
  },
  {
   "cell_type": "code",
   "execution_count": 20,
   "metadata": {
    "collapsed": false
   },
   "outputs": [
    {
     "name": "stdout",
     "output_type": "stream",
     "text": [
      "Plotting.ipynb             data_1.csv\r\n",
      "PosterPresentation.ppt     \u001b[34mdata_16\u001b[m\u001b[m\r\n",
      "README.md                  \u001b[34mdata_32\u001b[m\u001b[m\r\n",
      "\u001b[34mRockPaperScissors\u001b[m\u001b[m          data_parsing.ipynb\r\n",
      "barGraph_extinctTime16.pdf plotTest.pdf\r\n",
      "\u001b[34mdata1\u001b[m\u001b[m                      rock_paper_scissors.pde\r\n",
      "data_0.csv\r\n"
     ]
    }
   ],
   "source": [
    "!ls"
   ]
  },
  {
   "cell_type": "code",
   "execution_count": 31,
   "metadata": {
    "collapsed": false
   },
   "outputs": [
    {
     "data": {
      "text/plain": [
       "<Container object of 3 artists>"
      ]
     },
     "execution_count": 31,
     "metadata": {},
     "output_type": "execute_result"
    },
    {
     "data": {
      "image/png": "[encoded data removed]",
      "text/plain": [
       "<matplotlib.figure.Figure at 0x107b57ba8>"
      ]
     },
     "metadata": {},
     "output_type": "display_data"
    }
   ],
   "source": [
    "errorbar([1,2,3,4],[2,2,2,2],[1,1,1,1],fmt='k-')"
   ]
  },
  {
   "cell_type": "code",
   "execution_count": 26,
   "metadata": {
    "collapsed": false
   },
   "outputs": [
    {
     "name": "stdout",
     "output_type": "stream",
     "text": [
      "[1955.3914072521534, 2450.0340133693385, 617.30597491573553, 1425.3888358386048]\n"
     ]
    },
    {
     "ename": "ValueError",
     "evalue": "In safezip, len(args[0])=4 but len(args[1])=1",
     "output_type": "error",
     "traceback": [
      "\u001b[0;31m---------------------------------------------------------------------------\u001b[0m",
      "\u001b[0;31mValueError\u001b[0m                                Traceback (most recent call last)",
      "\u001b[0;32m<ipython-input-26-b198d065559d>\u001b[0m in \u001b[0;36m<module>\u001b[0;34m()\u001b[0m\n\u001b[1;32m      1\u001b[0m \u001b[0mprint\u001b[0m\u001b[0;34m(\u001b[0m\u001b[0mS\u001b[0m\u001b[0;34m)\u001b[0m\u001b[0;34m\u001b[0m\u001b[0m\n\u001b[0;32m----> 2\u001b[0;31m \u001b[0merrorbar\u001b[0m\u001b[0;34m(\u001b[0m\u001b[0;34m[\u001b[0m\u001b[0;36m1.4\u001b[0m\u001b[0;34m,\u001b[0m\u001b[0;36m2.4\u001b[0m\u001b[0;34m,\u001b[0m\u001b[0;36m3.4\u001b[0m\u001b[0;34m,\u001b[0m\u001b[0;36m4.4\u001b[0m\u001b[0;34m]\u001b[0m\u001b[0;34m,\u001b[0m\u001b[0;34m[\u001b[0m\u001b[0;36m1\u001b[0m\u001b[0;34m,\u001b[0m\u001b[0;36m2\u001b[0m\u001b[0;34m,\u001b[0m\u001b[0;36m3\u001b[0m\u001b[0;34m,\u001b[0m\u001b[0;36m4\u001b[0m\u001b[0;34m]\u001b[0m\u001b[0;34m,\u001b[0m\u001b[0mS\u001b[0m\u001b[0;34m,\u001b[0m\u001b[0;34m'k-'\u001b[0m\u001b[0;34m)\u001b[0m\u001b[0;34m\u001b[0m\u001b[0m\n\u001b[0m",
      "\u001b[0;32m//anaconda/lib/python3.5/site-packages/matplotlib/pyplot.py\u001b[0m in \u001b[0;36merrorbar\u001b[0;34m(x, y, yerr, xerr, fmt, ecolor, elinewidth, capsize, barsabove, lolims, uplims, xlolims, xuplims, errorevery, capthick, hold, data, **kwargs)\u001b[0m\n\u001b[1;32m   2828\u001b[0m                           \u001b[0mxlolims\u001b[0m\u001b[0;34m=\u001b[0m\u001b[0mxlolims\u001b[0m\u001b[0;34m,\u001b[0m \u001b[0mxuplims\u001b[0m\u001b[0;34m=\u001b[0m\u001b[0mxuplims\u001b[0m\u001b[0;34m,\u001b[0m\u001b[0;34m\u001b[0m\u001b[0m\n\u001b[1;32m   2829\u001b[0m                           \u001b[0merrorevery\u001b[0m\u001b[0;34m=\u001b[0m\u001b[0merrorevery\u001b[0m\u001b[0;34m,\u001b[0m \u001b[0mcapthick\u001b[0m\u001b[0;34m=\u001b[0m\u001b[0mcapthick\u001b[0m\u001b[0;34m,\u001b[0m \u001b[0mdata\u001b[0m\u001b[0;34m=\u001b[0m\u001b[0mdata\u001b[0m\u001b[0;34m,\u001b[0m\u001b[0;34m\u001b[0m\u001b[0m\n\u001b[0;32m-> 2830\u001b[0;31m                           **kwargs)\n\u001b[0m\u001b[1;32m   2831\u001b[0m     \u001b[0;32mfinally\u001b[0m\u001b[0;34m:\u001b[0m\u001b[0;34m\u001b[0m\u001b[0m\n\u001b[1;32m   2832\u001b[0m         \u001b[0max\u001b[0m\u001b[0;34m.\u001b[0m\u001b[0mhold\u001b[0m\u001b[0;34m(\u001b[0m\u001b[0mwashold\u001b[0m\u001b[0;34m)\u001b[0m\u001b[0;34m\u001b[0m\u001b[0m\n",
      "\u001b[0;32m//anaconda/lib/python3.5/site-packages/matplotlib/__init__.py\u001b[0m in \u001b[0;36minner\u001b[0;34m(ax, *args, **kwargs)\u001b[0m\n\u001b[1;32m   1809\u001b[0m                     warnings.warn(msg % (label_namer, func.__name__),\n\u001b[1;32m   1810\u001b[0m                                   RuntimeWarning, stacklevel=2)\n\u001b[0;32m-> 1811\u001b[0;31m             \u001b[0;32mreturn\u001b[0m \u001b[0mfunc\u001b[0m\u001b[0;34m(\u001b[0m\u001b[0max\u001b[0m\u001b[0;34m,\u001b[0m \u001b[0;34m*\u001b[0m\u001b[0margs\u001b[0m\u001b[0;34m,\u001b[0m \u001b[0;34m**\u001b[0m\u001b[0mkwargs\u001b[0m\u001b[0;34m)\u001b[0m\u001b[0;34m\u001b[0m\u001b[0m\n\u001b[0m\u001b[1;32m   1812\u001b[0m         \u001b[0mpre_doc\u001b[0m \u001b[0;34m=\u001b[0m \u001b[0minner\u001b[0m\u001b[0;34m.\u001b[0m\u001b[0m__doc__\u001b[0m\u001b[0;34m\u001b[0m\u001b[0m\n\u001b[1;32m   1813\u001b[0m         \u001b[0;32mif\u001b[0m \u001b[0mpre_doc\u001b[0m \u001b[0;32mis\u001b[0m \u001b[0;32mNone\u001b[0m\u001b[0;34m:\u001b[0m\u001b[0;34m\u001b[0m\u001b[0m\n",
      "\u001b[0;32m//anaconda/lib/python3.5/site-packages/matplotlib/axes/_axes.py\u001b[0m in \u001b[0;36merrorbar\u001b[0;34m(self, x, y, yerr, xerr, fmt, ecolor, elinewidth, capsize, barsabove, lolims, uplims, xlolims, xuplims, errorevery, capthick, **kwargs)\u001b[0m\n\u001b[1;32m   2883\u001b[0m                 \u001b[0;31m# using list comps rather than arrays to preserve units\u001b[0m\u001b[0;34m\u001b[0m\u001b[0;34m\u001b[0m\u001b[0m\n\u001b[1;32m   2884\u001b[0m                 left = [thisx - thiserr for (thisx, thiserr)\n\u001b[0;32m-> 2885\u001b[0;31m                         in cbook.safezip(x, xerr[0])]\n\u001b[0m\u001b[1;32m   2886\u001b[0m                 right = [thisx + thiserr for (thisx, thiserr)\n\u001b[1;32m   2887\u001b[0m                          in cbook.safezip(x, xerr[1])]\n",
      "\u001b[0;32m//anaconda/lib/python3.5/site-packages/matplotlib/cbook.py\u001b[0m in \u001b[0;36msafezip\u001b[0;34m(*args)\u001b[0m\n\u001b[1;32m   1492\u001b[0m     \u001b[0;32mfor\u001b[0m \u001b[0mi\u001b[0m\u001b[0;34m,\u001b[0m \u001b[0marg\u001b[0m \u001b[0;32min\u001b[0m \u001b[0menumerate\u001b[0m\u001b[0;34m(\u001b[0m\u001b[0margs\u001b[0m\u001b[0;34m[\u001b[0m\u001b[0;36m1\u001b[0m\u001b[0;34m:\u001b[0m\u001b[0;34m]\u001b[0m\u001b[0;34m)\u001b[0m\u001b[0;34m:\u001b[0m\u001b[0;34m\u001b[0m\u001b[0m\n\u001b[1;32m   1493\u001b[0m         \u001b[0;32mif\u001b[0m \u001b[0mlen\u001b[0m\u001b[0;34m(\u001b[0m\u001b[0marg\u001b[0m\u001b[0;34m)\u001b[0m \u001b[0;34m!=\u001b[0m \u001b[0mNx\u001b[0m\u001b[0;34m:\u001b[0m\u001b[0;34m\u001b[0m\u001b[0m\n\u001b[0;32m-> 1494\u001b[0;31m             \u001b[0;32mraise\u001b[0m \u001b[0mValueError\u001b[0m\u001b[0;34m(\u001b[0m\u001b[0m_safezip_msg\u001b[0m \u001b[0;34m%\u001b[0m \u001b[0;34m(\u001b[0m\u001b[0mNx\u001b[0m\u001b[0;34m,\u001b[0m \u001b[0mi\u001b[0m \u001b[0;34m+\u001b[0m \u001b[0;36m1\u001b[0m\u001b[0;34m,\u001b[0m \u001b[0mlen\u001b[0m\u001b[0;34m(\u001b[0m\u001b[0marg\u001b[0m\u001b[0;34m)\u001b[0m\u001b[0;34m)\u001b[0m\u001b[0;34m)\u001b[0m\u001b[0;34m\u001b[0m\u001b[0m\n\u001b[0m\u001b[1;32m   1495\u001b[0m     \u001b[0;32mreturn\u001b[0m \u001b[0mlist\u001b[0m\u001b[0;34m(\u001b[0m\u001b[0mzip\u001b[0m\u001b[0;34m(\u001b[0m\u001b[0;34m*\u001b[0m\u001b[0margs\u001b[0m\u001b[0;34m)\u001b[0m\u001b[0;34m)\u001b[0m\u001b[0;34m\u001b[0m\u001b[0m\n\u001b[1;32m   1496\u001b[0m \u001b[0;34m\u001b[0m\u001b[0m\n",
      "\u001b[0;31mValueError\u001b[0m: In safezip, len(args[0])=4 but len(args[1])=1"
     ]
    },
    {
     "data": {
      "image/png": "[encoded data removed]",
      "text/plain": [
       "<matplotlib.figure.Figure at 0x10790da58>"
      ]
     },
     "metadata": {},
     "output_type": "display_data"
    }
   ],
   "source": [
    "print(S)\n",
    "errorbar([1.4,2.4,3.4,4.4],[1,2,3,4],S,'k-')"
   ]
  },
  {
   "cell_type": "code",
   "execution_count": null,
   "metadata": {
    "collapsed": true
   },
   "outputs": [],
   "source": []
  }
 ],
 "metadata": {
  "kernelspec": {
   "display_name": "Python 3",
   "language": "python",
   "name": "python3"
  },
  "language_info": {
   "codemirror_mode": {
    "name": "ipython",
    "version": 3
   },
   "file_extension": ".py",
   "mimetype": "text/x-python",
   "name": "python",
   "nbconvert_exporter": "python",
   "pygments_lexer": "ipython3",
   "version": "3.5.1"
  }
 },
 "nbformat": 4,
 "nbformat_minor": 0
}
