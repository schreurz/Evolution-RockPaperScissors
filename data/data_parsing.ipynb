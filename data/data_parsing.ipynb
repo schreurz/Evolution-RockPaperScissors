{
 "cells": [
  {
   "cell_type": "code",
   "execution_count": 38,
   "metadata": {
    "collapsed": false
   },
   "outputs": [
    {
     "name": "stdout",
     "output_type": "stream",
     "text": [
      "Populating the interactive namespace from numpy and matplotlib\n"
     ]
    },
    {
     "name": "stderr",
     "output_type": "stream",
     "text": [
      "/home/zack/anaconda3/lib/python3.6/site-packages/IPython/core/magics/pylab.py:161: UserWarning: pylab import has clobbered these variables: ['test', 'types', 'unique', 'datetime', 'info']\n",
      "`%matplotlib` prevents importing * from pylab and numpy\n",
      "  \"\\n`%matplotlib` prevents importing * from pylab and numpy\"\n"
     ]
    }
   ],
   "source": [
    "%pylab inline"
   ]
  },
  {
   "cell_type": "code",
   "execution_count": 39,
   "metadata": {
    "collapsed": true
   },
   "outputs": [],
   "source": [
    "from pandas import *"
   ]
  },
  {
   "cell_type": "code",
   "execution_count": 40,
   "metadata": {
    "collapsed": false,
    "scrolled": false
   },
   "outputs": [
    {
     "name": "stdout",
     "output_type": "stream",
     "text": [
      "4-1-2017_12:49:51\t    barGraph_win_count16.pdf\r\n",
      "barGraph_extinctTime16.pdf  data_parsing.ipynb\r\n"
     ]
    }
   ],
   "source": [
    "!ls"
   ]
  },
  {
   "cell_type": "code",
   "execution_count": 41,
   "metadata": {
    "collapsed": false
   },
   "outputs": [],
   "source": [
    "# winner[Random Player]\n",
    "#       [Well Mixed]\n",
    "winner_16 = [[{'R':0, 'P':0, 'S':0, 'M':0},{'R':0, 'P':0, 'S':0, 'M':0}],\n",
    "          [{'R':0, 'P':0, 'S':0, 'M':0},{'R':0, 'P':0, 'S':0, 'M':0}]]\n",
    "winner_32 = [[{'R':0, 'P':0, 'S':0, 'M':0},{'R':0, 'P':0, 'S':0, 'M':0}],\n",
    "          [{'R':0, 'P':0, 'S':0, 'M':0},{'R':0, 'P':0, 'S':0, 'M':0}]]\n",
    "winner_64 = [[{'R':0, 'P':0, 'S':0, 'M':0},{'R':0, 'P':0, 'S':0, 'M':0}],\n",
    "          [{'R':0, 'P':0, 'S':0, 'M':0},{'R':0, 'P':0, 'S':0, 'M':0}]]\n",
    "#extinct_time[Random Player]\n",
    "#            [Well Mixed]\n",
    "extinct_time_16 = [[[],[]],[[],[]]]\n",
    "extinct_time_32 = [[[],[]],[[],[]]]\n",
    "extinct_time_32 = [[[],[]],[[],[]]]"
   ]
  },
  {
   "cell_type": "code",
   "execution_count": 42,
   "metadata": {
    "collapsed": false
   },
   "outputs": [],
   "source": [
    "\"\"\"\n",
    "This loops through the data and gets the winners\n",
    "then saves that winner into the winner dictionary\n",
    "\"\"\"\n",
    "for i in range(500):\n",
    "    data=read_csv(\"4-1-2017_12:49:51/data_\"+str(i)+\".csv\")\n",
    "    i = int(list(data['Well Mixed'])[0])\n",
    "    j = int(list(data['Random'])[0])\n",
    "    if (list(data['Size'])[0] == 16):\n",
    "        extinct_time_16[i][j].append(size(data['R']))\n",
    "        winner_16[i][j]['R'] += int(list(data['R'])[-1] > 0)\n",
    "        winner_16[i][j]['P'] += int(list(data['P'])[-1] > 0)\n",
    "        winner_16[i][j]['S'] += int(list(data['S'])[-1] > 0)\n",
    "        winner_16[i][j]['M'] += int(list(data['M'])[-1] > 0)\n",
    "    elif (list(data['Size'])[0] == 32):\n",
    "        extinct_time_32[i][j].append(size(data['R']))\n",
    "        winner_32[i][j]['R'] += int(list(data['R'])[-1] > 0)\n",
    "        winner_32[i][j]['P'] += int(list(data['P'])[-1] > 0)\n",
    "        winner_32[i][j]['S'] += int(list(data['S'])[-1] > 0)\n",
    "        winner_32[i][j]['M'] += int(list(data['M'])[-1] > 0)\n",
    "    elif (list(data['Size'])[0] == 64):\n",
    "        extinct_time_64[i][j].append(size(data['R']))\n",
    "        winner_64[i][j]['R'] += int(list(data['R'])[-1] > 0)\n",
    "        winner_64[i][j]['P'] += int(list(data['P'])[-1] > 0)\n",
    "        winner_64[i][j]['S'] += int(list(data['S'])[-1] > 0)\n",
    "        winner_64[i][j]['M'] += int(list(data['M'])[-1] > 0)"
   ]
  },
  {
   "cell_type": "code",
   "execution_count": 44,
   "metadata": {
    "collapsed": false
   },
   "outputs": [
    {
     "data": {
      "text/plain": [
       "[[{'M': 0, 'P': 30, 'R': 49, 'S': 46}, {'M': 27, 'P': 31, 'R': 28, 'S': 39}],\n",
       " [{'M': 0, 'P': 36, 'R': 41, 'S': 48}, {'M': 34, 'P': 29, 'R': 30, 'S': 32}]]"
      ]
     },
     "execution_count": 44,
     "metadata": {},
     "output_type": "execute_result"
    }
   ],
   "source": [
    "winner_16"
   ]
  },
  {
   "cell_type": "code",
   "execution_count": 46,
   "metadata": {
    "collapsed": false
   },
   "outputs": [
    {
     "data": {
      "image/png": "[encoded data removed]",
      "text/plain": [
       "<matplotlib.figure.Figure at 0x7f114f288b70>"
      ]
     },
     "metadata": {},
     "output_type": "display_data"
    }
   ],
   "source": [
    "N=['R','P','S','M']\n",
    "k=1\n",
    "figsize(8,8)\n",
    "for i in range(2):\n",
    "    for j in range(2):\n",
    "        L=[]\n",
    "        for n in N:\n",
    "            L.append(winner_16[i][j][n])\n",
    "        subplot(2,2,k)\n",
    "        bar([1,2,3,4],L)\n",
    "        xticks([1.4,2.4,3.4,4.4],['rock','paper','scissor','random'],rotation=65)\n",
    "        title(\"WM: \" + str(bool(j)) + \"   RP: \" + str(bool(i)))\n",
    "        k=k+1\n",
    "tight_layout()\n",
    "savefig(\"barGraph_win_count16.pdf\")"
   ]
  },
  {
   "cell_type": "code",
   "execution_count": 20,
   "metadata": {
    "collapsed": false
   },
   "outputs": [
    {
     "data": {
      "image/png": "[encoded data removed]",
      "text/plain": [
       "<matplotlib.figure.Figure at 0x7f114f681b38>"
      ]
     },
     "metadata": {},
     "output_type": "display_data"
    }
   ],
   "source": [
    "figure(figsize=[6,6])\n",
    "extinct_time_16\n",
    "E=[]\n",
    "S=[]\n",
    "for i in range(2):\n",
    "    for j in range(2):\n",
    "        E.append(mean(extinct_time_16[i][j])*100)\n",
    "        S.append(std(numpy.array(extinct_time_16[i][j])*100)/float(sqrt(len(extinct_time_16[i][j]))))\n",
    "        \n",
    "bar([1,2,3,4],E,color=(0.5,0.5,0.5))\n",
    "errorbar([1.4,2.4,3.4,4.4],E,S,fmt=\"xk\")\n",
    "xticks([1.4,2.4,3.4,4.4],[\"SP noR\",\"SP R\",\"WM noR\",\"WM R\"],rotation=65)\n",
    "savefig(\"barGraph_extinctTime16.pdf\")"
   ]
  },
  {
   "cell_type": "code",
   "execution_count": null,
   "metadata": {
    "collapsed": true
   },
   "outputs": [],
   "source": []
  }
 ],
 "metadata": {
  "kernelspec": {
   "display_name": "Python 3",
   "language": "python",
   "name": "python3"
  },
  "language_info": {
   "codemirror_mode": {
    "name": "ipython",
    "version": 3
   },
   "file_extension": ".py",
   "mimetype": "text/x-python",
   "name": "python",
   "nbconvert_exporter": "python",
   "pygments_lexer": "ipython3",
   "version": "3.6.0"
  }
 },
 "nbformat": 4,
 "nbformat_minor": 0
}
