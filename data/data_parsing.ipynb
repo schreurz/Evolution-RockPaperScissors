{
 "cells": [
  {
   "cell_type": "code",
   "execution_count": 3,
   "metadata": {
    "collapsed": false
   },
   "outputs": [
    {
     "name": "stdout",
     "output_type": "stream",
     "text": [
      "Populating the interactive namespace from numpy and matplotlib\n"
     ]
    }
   ],
   "source": [
    "%pylab inline"
   ]
  },
  {
   "cell_type": "code",
   "execution_count": 4,
   "metadata": {
    "collapsed": true
   },
   "outputs": [],
   "source": [
    "from pandas import *"
   ]
  },
  {
   "cell_type": "code",
   "execution_count": 5,
   "metadata": {
    "collapsed": false,
    "scrolled": false
   },
   "outputs": [
    {
     "name": "stdout",
     "output_type": "stream",
     "text": [
      "\u001b[34m4-3-2017_13:37:59\u001b[m\u001b[m  \u001b[34m4-3-2017_14:21:21\u001b[m\u001b[m  \u001b[34m4-4-2017_9:59:12\u001b[m\u001b[m   \u001b[34msize16\u001b[m\u001b[m\r\n",
      "\u001b[34m4-3-2017_13:38:38\u001b[m\u001b[m  \u001b[34m4-3-2017_14:23:12\u001b[m\u001b[m  data_parsing.ipynb\r\n",
      "\u001b[34m4-3-2017_14:0:53\u001b[m\u001b[m   \u001b[34m4-4-2017_9:59:1\u001b[m\u001b[m    \u001b[34mexample pictures\u001b[m\u001b[m\r\n"
     ]
    }
   ],
   "source": [
    "!ls"
   ]
  },
  {
   "cell_type": "code",
   "execution_count": 6,
   "metadata": {
    "collapsed": false
   },
   "outputs": [],
   "source": [
    "# winner[Random Player]\n",
    "#       [Well Mixed]\n",
    "winner_16 = [[{'R':0, 'P':0, 'S':0, 'M':0},{'R':0, 'P':0, 'S':0, 'M':0}],\n",
    "          [{'R':0, 'P':0, 'S':0, 'M':0},{'R':0, 'P':0, 'S':0, 'M':0}]]\n",
    "winner_32 = [[{'R':0, 'P':0, 'S':0, 'M':0},{'R':0, 'P':0, 'S':0, 'M':0}],\n",
    "          [{'R':0, 'P':0, 'S':0, 'M':0},{'R':0, 'P':0, 'S':0, 'M':0}]]\n",
    "winner_64 = [[{'R':0, 'P':0, 'S':0, 'M':0},{'R':0, 'P':0, 'S':0, 'M':0}],\n",
    "          [{'R':0, 'P':0, 'S':0, 'M':0},{'R':0, 'P':0, 'S':0, 'M':0}]]\n",
    "#extinct_time[Random Player]\n",
    "#            [Well Mixed]\n",
    "extinct_time_16 = [[[],[]],[[],[]]]\n",
    "extinct_time_32 = [[[],[]],[[],[]]]\n",
    "extinct_time_32 = [[[],[]],[[],[]]]"
   ]
  },
  {
   "cell_type": "code",
   "execution_count": 7,
   "metadata": {
    "collapsed": false
   },
   "outputs": [],
   "source": [
    "\"\"\"\n",
    "This loops through the data and gets the winners\n",
    "then saves that winner into the winner dictionary\n",
    "\"\"\"\n",
    "for i in range(2000):\n",
    "    try:\n",
    "        data=read_csv(\"size16/data_\"+str(i)+\".csv\")\n",
    "    except OSError:\n",
    "        print(i)\n",
    "        break;\n",
    "    i = int(list(data['Well Mixed'])[0])\n",
    "    j = int(list(data['Random'])[0])\n",
    "    if (list(data['Size'])[0] == 16):\n",
    "        extinct_time_16[i][j].append(size(data['R']))\n",
    "        winner_16[i][j]['R'] += int(list(data['R'])[-1] > 0)\n",
    "        winner_16[i][j]['P'] += int(list(data['P'])[-1] > 0)\n",
    "        winner_16[i][j]['S'] += int(list(data['S'])[-1] > 0)\n",
    "        winner_16[i][j]['M'] += int(list(data['M'])[-1] > 0)\n",
    "    elif (list(data['Size'])[0] == 32):\n",
    "        extinct_time_32[i][j].append(size(data['R']))\n",
    "        winner_32[i][j]['R'] += int(list(data['R'])[-1] > 0)\n",
    "        winner_32[i][j]['P'] += int(list(data['P'])[-1] > 0)\n",
    "        winner_32[i][j]['S'] += int(list(data['S'])[-1] > 0)\n",
    "        winner_32[i][j]['M'] += int(list(data['M'])[-1] > 0)\n",
    "    elif (list(data['Size'])[0] == 64):\n",
    "        extinct_time_64[i][j].append(size(data['R']))\n",
    "        winner_64[i][j]['R'] += int(list(data['R'])[-1] > 0)\n",
    "        winner_64[i][j]['P'] += int(list(data['P'])[-1] > 0)\n",
    "        winner_64[i][j]['S'] += int(list(data['S'])[-1] > 0)\n",
    "        winner_64[i][j]['M'] += int(list(data['M'])[-1] > 0)"
   ]
  },
  {
   "cell_type": "code",
   "execution_count": 9,
   "metadata": {
    "collapsed": false
   },
   "outputs": [
    {
     "data": {
      "text/plain": [
       "[[{'M': 0, 'P': 183, 'R': 162, 'S': 155},\n",
       "  {'M': 119, 'P': 114, 'R': 141, 'S': 126}],\n",
       " [{'M': 0, 'P': 164, 'R': 161, 'S': 175},\n",
       "  {'M': 108, 'P': 142, 'R': 123, 'S': 127}]]"
      ]
     },
     "execution_count": 9,
     "metadata": {},
     "output_type": "execute_result"
    }
   ],
   "source": [
    "winner_16"
   ]
  },
  {
   "cell_type": "code",
   "execution_count": 10,
   "metadata": {
    "collapsed": false
   },
   "outputs": [
    {
     "data": {
      "image/png": "[encoded data removed]",
      "text/plain": [
       "<matplotlib.figure.Figure at 0x1070c52b0>"
      ]
     },
     "metadata": {},
     "output_type": "display_data"
    }
   ],
   "source": [
    "N=['R','P','S','M']\n",
    "k=1\n",
    "figsize(8,8)\n",
    "for i in range(2):\n",
    "    for j in range(2):\n",
    "        L=[]\n",
    "        for n in N:\n",
    "            L.append(winner_16[i][j][n])\n",
    "        subplot(2,2,k)\n",
    "        bar([1,2,3,4],L)\n",
    "        xticks([1.4,2.4,3.4,4.4],['rock','paper','scissor','random'],rotation=65)\n",
    "        title(\"WM: \" + str(bool(i)) + \"   RP: \" + str(bool(j)))\n",
    "        k=k+1\n",
    "tight_layout()\n",
    "savefig(\"barGraph_win_count16.pdf\")"
   ]
  },
  {
   "cell_type": "code",
   "execution_count": 11,
   "metadata": {
    "collapsed": false
   },
   "outputs": [
    {
     "data": {
      "image/png": "[encoded data removed]",
      "text/plain": [
       "<matplotlib.figure.Figure at 0x1075054a8>"
      ]
     },
     "metadata": {},
     "output_type": "display_data"
    }
   ],
   "source": [
    "figure(figsize=[8,8])\n",
    "extinct_time_16\n",
    "E=[]\n",
    "S=[]\n",
    "for i in range(2):\n",
    "    for j in range(2):\n",
    "        E.append(mean(extinct_time_16[i][j])*100)\n",
    "        S.append(std(numpy.array(extinct_time_16[i][j])*100)/float(sqrt(len(extinct_time_16[i][j]))))\n",
    "        \n",
    "bar([1,2,3,4],E,color=(0.5,0.5,0.5))\n",
    "errorbar([1.4,2.4,3.4,4.4],E,S,fmt=\"xk\")\n",
    "xticks([1.4,2.4,3.4,4.4],[\"SP noR\",\"SP R\",\"WM noR\",\"WM R\"],rotation=65)\n",
    "savefig(\"barGraph_extinctTime16.pdf\")"
   ]
  },
  {
   "cell_type": "code",
   "execution_count": null,
   "metadata": {
    "collapsed": true
   },
   "outputs": [],
   "source": []
  }
 ],
 "metadata": {
  "kernelspec": {
   "display_name": "Python 3",
   "language": "python",
   "name": "python3"
  },
  "language_info": {
   "codemirror_mode": {
    "name": "ipython",
    "version": 3
   },
   "file_extension": ".py",
   "mimetype": "text/x-python",
   "name": "python",
   "nbconvert_exporter": "python",
   "pygments_lexer": "ipython3",
   "version": "3.5.1"
  }
 },
 "nbformat": 4,
 "nbformat_minor": 0
}
